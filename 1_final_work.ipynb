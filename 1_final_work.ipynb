{
 "cells": [
  {
   "cell_type": "markdown",
   "metadata": {},
   "source": [
    "# Задание 1\n",
    "Необходимо выяснить, какие пары товаров пользователи чаще всего покупают вместе, то есть найти паттерны покупок для оптимизации размещения продуктов в магазине, удобства пользователей и увеличения выручки."
   ]
  },
  {
   "cell_type": "code",
   "execution_count": 1,
   "metadata": {
    "ExecuteTime": {
     "end_time": "2019-04-24T10:07:46.197278Z",
     "start_time": "2019-04-24T10:07:45.667014Z"
    }
   },
   "outputs": [],
   "source": [
    "import pandas as pd\n",
    "import itertools\n",
    "import numpy as np\n",
    "import statsmodels.api as sm\n",
    "import holidays\n",
    "from fbprophet import Prophet\n",
    "import matplotlib.pyplot as plt\n",
    "%matplotlib inline\n",
    "import seaborn as sns\n",
    "from plotly.offline import iplot\n",
    "import plotly.graph_objs as go\n",
    "import pandahouse as ph\n",
    "import warnings\n",
    "warnings.filterwarnings('ignore')"
   ]
  },
  {
   "cell_type": "code",
   "execution_count": 2,
   "metadata": {},
   "outputs": [],
   "source": [
    "purchases = pd.read_csv('test1_completed.csv')"
   ]
  },
  {
   "cell_type": "code",
   "execution_count": 3,
   "metadata": {},
   "outputs": [
    {
     "data": {
      "text/html": [
       "<div>\n",
       "<style scoped>\n",
       "    .dataframe tbody tr th:only-of-type {\n",
       "        vertical-align: middle;\n",
       "    }\n",
       "\n",
       "    .dataframe tbody tr th {\n",
       "        vertical-align: top;\n",
       "    }\n",
       "\n",
       "    .dataframe thead th {\n",
       "        text-align: right;\n",
       "    }\n",
       "</style>\n",
       "<table border=\"1\" class=\"dataframe\">\n",
       "  <thead>\n",
       "    <tr style=\"text-align: right;\">\n",
       "      <th></th>\n",
       "      <th>id</th>\n",
       "      <th>Товар</th>\n",
       "      <th>Количество</th>\n",
       "    </tr>\n",
       "  </thead>\n",
       "  <tbody>\n",
       "    <tr>\n",
       "      <th>0</th>\n",
       "      <td>17119</td>\n",
       "      <td>Лимон</td>\n",
       "      <td>1.10</td>\n",
       "    </tr>\n",
       "    <tr>\n",
       "      <th>1</th>\n",
       "      <td>17119</td>\n",
       "      <td>Лимон оранжевый</td>\n",
       "      <td>0.70</td>\n",
       "    </tr>\n",
       "    <tr>\n",
       "      <th>2</th>\n",
       "      <td>17119</td>\n",
       "      <td>Лук-порей</td>\n",
       "      <td>10.00</td>\n",
       "    </tr>\n",
       "    <tr>\n",
       "      <th>3</th>\n",
       "      <td>17119</td>\n",
       "      <td>Лук репчатый</td>\n",
       "      <td>2.50</td>\n",
       "    </tr>\n",
       "    <tr>\n",
       "      <th>4</th>\n",
       "      <td>17119</td>\n",
       "      <td>Малина свежая</td>\n",
       "      <td>1.00</td>\n",
       "    </tr>\n",
       "    <tr>\n",
       "      <th>5</th>\n",
       "      <td>17119</td>\n",
       "      <td>Морковь немытая</td>\n",
       "      <td>1.40</td>\n",
       "    </tr>\n",
       "    <tr>\n",
       "      <th>6</th>\n",
       "      <td>17119</td>\n",
       "      <td>Черешня сушеная</td>\n",
       "      <td>1.80</td>\n",
       "    </tr>\n",
       "    <tr>\n",
       "      <th>7</th>\n",
       "      <td>17530</td>\n",
       "      <td>Лимон оранжевый</td>\n",
       "      <td>0.25</td>\n",
       "    </tr>\n",
       "    <tr>\n",
       "      <th>8</th>\n",
       "      <td>17530</td>\n",
       "      <td>Изюм Султана</td>\n",
       "      <td>0.50</td>\n",
       "    </tr>\n",
       "    <tr>\n",
       "      <th>9</th>\n",
       "      <td>17530</td>\n",
       "      <td>Капуста цветная</td>\n",
       "      <td>2.00</td>\n",
       "    </tr>\n",
       "  </tbody>\n",
       "</table>\n",
       "</div>"
      ],
      "text/plain": [
       "      id            Товар  Количество\n",
       "0  17119            Лимон        1.10\n",
       "1  17119  Лимон оранжевый        0.70\n",
       "2  17119        Лук-порей       10.00\n",
       "3  17119     Лук репчатый        2.50\n",
       "4  17119    Малина свежая        1.00\n",
       "5  17119  Морковь немытая        1.40\n",
       "6  17119  Черешня сушеная        1.80\n",
       "7  17530  Лимон оранжевый        0.25\n",
       "8  17530     Изюм Султана        0.50\n",
       "9  17530  Капуста цветная        2.00"
      ]
     },
     "execution_count": 3,
     "metadata": {},
     "output_type": "execute_result"
    }
   ],
   "source": [
    "purchases.head(10)"
   ]
  },
  {
   "cell_type": "code",
   "execution_count": 4,
   "metadata": {},
   "outputs": [],
   "source": [
    "# для решения нашей задачи колонка с количеством товаров не нужна, можно удалить её\n",
    "purchases = purchases.drop(columns='Количество')\n",
    "\n",
    "purchases = purchases.rename(columns={'Товар': 'product'})"
   ]
  },
  {
   "cell_type": "code",
   "execution_count": 5,
   "metadata": {},
   "outputs": [],
   "source": [
    "# отсортируем товары в каждой покупке для дальнейшего составления одинаковых сочетаний \n",
    "purchases = purchases.sort_values(['id', 'product'])"
   ]
  },
  {
   "cell_type": "code",
   "execution_count": 6,
   "metadata": {},
   "outputs": [],
   "source": [
    "# составим все возможные парные комбинации товаров в каждой покупке\n",
    "purchases = purchases.groupby('id')['product'].apply(lambda row: pd.DataFrame.from_records(itertools.combinations(row, 2)))"
   ]
  },
  {
   "cell_type": "code",
   "execution_count": 7,
   "metadata": {},
   "outputs": [],
   "source": [
    "purchases = purchases.value_counts().to_frame()"
   ]
  },
  {
   "cell_type": "code",
   "execution_count": 8,
   "metadata": {},
   "outputs": [],
   "source": [
    "# оформим таблицу в соответствии с требуемым форматом ответа\n",
    "purchases.index = purchases.index.set_names(['Товар_1', 'Товар_2'])\n",
    "purchases = purchases.reset_index().rename(columns={0: 'Встречаемость'})"
   ]
  },
  {
   "cell_type": "code",
   "execution_count": 9,
   "metadata": {},
   "outputs": [
    {
     "data": {
      "text/html": [
       "<div>\n",
       "<style scoped>\n",
       "    .dataframe tbody tr th:only-of-type {\n",
       "        vertical-align: middle;\n",
       "    }\n",
       "\n",
       "    .dataframe tbody tr th {\n",
       "        vertical-align: top;\n",
       "    }\n",
       "\n",
       "    .dataframe thead th {\n",
       "        text-align: right;\n",
       "    }\n",
       "</style>\n",
       "<table border=\"1\" class=\"dataframe\">\n",
       "  <thead>\n",
       "    <tr style=\"text-align: right;\">\n",
       "      <th></th>\n",
       "      <th>Товар_1</th>\n",
       "      <th>Товар_2</th>\n",
       "      <th>Встречаемость</th>\n",
       "    </tr>\n",
       "  </thead>\n",
       "  <tbody>\n",
       "    <tr>\n",
       "      <th>0</th>\n",
       "      <td>Огурцы Луховицкие</td>\n",
       "      <td>Укроп</td>\n",
       "      <td>431</td>\n",
       "    </tr>\n",
       "    <tr>\n",
       "      <th>1</th>\n",
       "      <td>Петрушка</td>\n",
       "      <td>Укроп</td>\n",
       "      <td>408</td>\n",
       "    </tr>\n",
       "    <tr>\n",
       "      <th>2</th>\n",
       "      <td>Арбуз</td>\n",
       "      <td>Огурцы Луховицкие</td>\n",
       "      <td>345</td>\n",
       "    </tr>\n",
       "    <tr>\n",
       "      <th>3</th>\n",
       "      <td>Кабачки</td>\n",
       "      <td>Огурцы Луховицкие</td>\n",
       "      <td>326</td>\n",
       "    </tr>\n",
       "    <tr>\n",
       "      <th>4</th>\n",
       "      <td>Кинза</td>\n",
       "      <td>Укроп</td>\n",
       "      <td>303</td>\n",
       "    </tr>\n",
       "  </tbody>\n",
       "</table>\n",
       "</div>"
      ],
      "text/plain": [
       "             Товар_1            Товар_2  Встречаемость\n",
       "0  Огурцы Луховицкие              Укроп            431\n",
       "1           Петрушка              Укроп            408\n",
       "2              Арбуз  Огурцы Луховицкие            345\n",
       "3            Кабачки  Огурцы Луховицкие            326\n",
       "4              Кинза              Укроп            303"
      ]
     },
     "execution_count": 9,
     "metadata": {},
     "output_type": "execute_result"
    }
   ],
   "source": [
    "purchases.head(5)"
   ]
  },
  {
   "cell_type": "markdown",
   "metadata": {},
   "source": [
    "# Задание 2\n",
    "К вам поступила информация о числе заказов за прошедшие 3 месяца с разрешением по неделям.\n",
    "\n",
    "Постройте (если это возможно) прогноз продаж на следующие 3 месяца, с учётом того, что в неделю с 2020-02-02 по 2020-02-09 была проведена массивная акция, повысившая число заказов на 7%"
   ]
  },
  {
   "cell_type": "code",
   "execution_count": 10,
   "metadata": {},
   "outputs": [
    {
     "data": {
      "text/html": [
       "<div>\n",
       "<style scoped>\n",
       "    .dataframe tbody tr th:only-of-type {\n",
       "        vertical-align: middle;\n",
       "    }\n",
       "\n",
       "    .dataframe tbody tr th {\n",
       "        vertical-align: top;\n",
       "    }\n",
       "\n",
       "    .dataframe thead th {\n",
       "        text-align: right;\n",
       "    }\n",
       "</style>\n",
       "<table border=\"1\" class=\"dataframe\">\n",
       "  <thead>\n",
       "    <tr style=\"text-align: right;\">\n",
       "      <th></th>\n",
       "      <th>Дата</th>\n",
       "      <th>Число заказов</th>\n",
       "    </tr>\n",
       "  </thead>\n",
       "  <tbody>\n",
       "    <tr>\n",
       "      <th>0</th>\n",
       "      <td>2020-01-05</td>\n",
       "      <td>650</td>\n",
       "    </tr>\n",
       "    <tr>\n",
       "      <th>1</th>\n",
       "      <td>2020-01-12</td>\n",
       "      <td>837</td>\n",
       "    </tr>\n",
       "    <tr>\n",
       "      <th>2</th>\n",
       "      <td>2020-01-19</td>\n",
       "      <td>1020</td>\n",
       "    </tr>\n",
       "    <tr>\n",
       "      <th>3</th>\n",
       "      <td>2020-01-26</td>\n",
       "      <td>1176</td>\n",
       "    </tr>\n",
       "    <tr>\n",
       "      <th>4</th>\n",
       "      <td>2020-02-02</td>\n",
       "      <td>1489</td>\n",
       "    </tr>\n",
       "    <tr>\n",
       "      <th>5</th>\n",
       "      <td>2020-02-09</td>\n",
       "      <td>1823</td>\n",
       "    </tr>\n",
       "    <tr>\n",
       "      <th>6</th>\n",
       "      <td>2020-02-16</td>\n",
       "      <td>1991</td>\n",
       "    </tr>\n",
       "    <tr>\n",
       "      <th>7</th>\n",
       "      <td>2020-02-23</td>\n",
       "      <td>2166</td>\n",
       "    </tr>\n",
       "    <tr>\n",
       "      <th>8</th>\n",
       "      <td>2020-03-01</td>\n",
       "      <td>2334</td>\n",
       "    </tr>\n",
       "    <tr>\n",
       "      <th>9</th>\n",
       "      <td>2020-03-08</td>\n",
       "      <td>2607</td>\n",
       "    </tr>\n",
       "    <tr>\n",
       "      <th>10</th>\n",
       "      <td>2020-03-15</td>\n",
       "      <td>2734</td>\n",
       "    </tr>\n",
       "    <tr>\n",
       "      <th>11</th>\n",
       "      <td>2020-03-22</td>\n",
       "      <td>3492</td>\n",
       "    </tr>\n",
       "    <tr>\n",
       "      <th>12</th>\n",
       "      <td>2020-03-29</td>\n",
       "      <td>3608</td>\n",
       "    </tr>\n",
       "    <tr>\n",
       "      <th>13</th>\n",
       "      <td>2020-04-05</td>\n",
       "      <td>3857</td>\n",
       "    </tr>\n",
       "  </tbody>\n",
       "</table>\n",
       "</div>"
      ],
      "text/plain": [
       "          Дата  Число заказов\n",
       "0   2020-01-05            650\n",
       "1   2020-01-12            837\n",
       "2   2020-01-19           1020\n",
       "3   2020-01-26           1176\n",
       "4   2020-02-02           1489\n",
       "5   2020-02-09           1823\n",
       "6   2020-02-16           1991\n",
       "7   2020-02-23           2166\n",
       "8   2020-03-01           2334\n",
       "9   2020-03-08           2607\n",
       "10  2020-03-15           2734\n",
       "11  2020-03-22           3492\n",
       "12  2020-03-29           3608\n",
       "13  2020-04-05           3857"
      ]
     },
     "execution_count": 10,
     "metadata": {},
     "output_type": "execute_result"
    }
   ],
   "source": [
    "df = pd.read_csv('test2_completed.csv')\n",
    "df"
   ]
  },
  {
   "cell_type": "code",
   "execution_count": 11,
   "metadata": {},
   "outputs": [],
   "source": [
    "df = df.rename(columns={'Дата': 'date',\n",
    "               'Число заказов': 'quantity'})"
   ]
  },
  {
   "cell_type": "code",
   "execution_count": 12,
   "metadata": {},
   "outputs": [
    {
     "data": {
      "image/png": "[encoded data removed]",
      "text/plain": [
       "<Figure size 864x432 with 1 Axes>"
      ]
     },
     "metadata": {
      "needs_background": "light"
     },
     "output_type": "display_data"
    }
   ],
   "source": [
    "plt.figure(figsize=(12, 6))\n",
    "sns.lineplot(data=df['quantity'])\n",
    "plt.title('Динамика количества заказов')\n",
    "plt.xlabel(\"Номер недели\")\n",
    "plt.ylabel(\"Количество заказов\")\n",
    "sns.despine()"
   ]
  },
  {
   "cell_type": "markdown",
   "metadata": {},
   "source": [
    "Заметна довольно четкая линейная взаимосвязь, 22 марта виден скачок, скорее всего это связано с началом периода ковидной изоляции, в связи с чем люди стали активнее пользоваться онлайн магазинами."
   ]
  },
  {
   "cell_type": "markdown",
   "metadata": {},
   "source": [
    "При прогнозировании временных рядов необходимо учитывать несколько основных факторов, таких как:\n",
    "1. Сезонность - годовая, недельная \n",
    "2. Тренд\n",
    "3. Учет аномальных дней и событий, приведших к ним\n",
    "4. А так же влияние других маркетинговых, производственных и т.д. факторов\n",
    "\n",
    "В нашем распоряжении очень мало данных, имеющих довольно четкую линейную взаимосвязь, что чисто технически позволяет сформировать некоторый прогноз, но вряд ли его можно считать адекватным, можем получить что-нибудь такое :)"
   ]
  },
  {
   "attachments": {
    "image.png": {
     "image/png": "[encoded data removed]"
    }
   },
   "cell_type": "markdown",
   "metadata": {},
   "source": [
    "![image.png](attachment:image.png)"
   ]
  },
  {
   "cell_type": "markdown",
   "metadata": {},
   "source": [
    "\n",
    "Для построения приемлемого прогноза хотелось бы располагать данными хотя бы за 1 год, позволяющими учесть влияние годовой сезонности, праздников и других событий. \n",
    "\n",
    "Здесь же мы можем отталкиваться только от линии тренда, так как даже разбивки по дням - для того чтобы учесть внутринедельную сезонность - у нас нет.\n",
    "\n",
    "Попробуем построить прогноз на этих данных спомощью линейной регрессии.\n",
    "\n",
    "Поскольку дата возрастает через равные недельные промежутки, для удобства можем заменить её на порядковый номер недели."
   ]
  },
  {
   "cell_type": "code",
   "execution_count": 13,
   "metadata": {},
   "outputs": [],
   "source": [
    "df['x'] = df.index+1"
   ]
  },
  {
   "cell_type": "markdown",
   "metadata": {},
   "source": [
    "По условию с 2020-02-02 по 2020-02-09 была проведена акция, повысившая число заказов на 7%, чтобы учесть этот момент, рассчитаем количество заказов без проведения этой акции и передадим скорректированное значение модели линейной регрессии."
   ]
  },
  {
   "cell_type": "code",
   "execution_count": 14,
   "metadata": {},
   "outputs": [],
   "source": [
    "quantity_of_orders = round(1823/1.07)"
   ]
  },
  {
   "cell_type": "code",
   "execution_count": 15,
   "metadata": {},
   "outputs": [],
   "source": [
    "df.at[5, 'quantity'] = quantity_of_orders"
   ]
  },
  {
   "cell_type": "code",
   "execution_count": 16,
   "metadata": {},
   "outputs": [],
   "source": [
    "Y = df.quantity\n",
    "X = df.x"
   ]
  },
  {
   "cell_type": "code",
   "execution_count": 17,
   "metadata": {},
   "outputs": [
    {
     "name": "stdout",
     "output_type": "stream",
     "text": [
      "                            OLS Regression Results                            \n",
      "==============================================================================\n",
      "Dep. Variable:               quantity   R-squared:                       0.983\n",
      "Model:                            OLS   Adj. R-squared:                  0.981\n",
      "Method:                 Least Squares   F-statistic:                     688.2\n",
      "Date:                Tue, 26 Oct 2021   Prob (F-statistic):           5.76e-12\n",
      "Time:                        07:45:46   Log-Likelihood:                -88.243\n",
      "No. Observations:                  14   AIC:                             180.5\n",
      "Df Residuals:                      12   BIC:                             181.8\n",
      "Df Model:                           1                                         \n",
      "Covariance Type:            nonrobust                                         \n",
      "==============================================================================\n",
      "                 coef    std err          t      P>|t|      [0.025      0.975]\n",
      "------------------------------------------------------------------------------\n",
      "const        256.6044     80.595      3.184      0.008      81.003     432.206\n",
      "x            248.3099      9.465     26.233      0.000     227.687     268.933\n",
      "==============================================================================\n",
      "Omnibus:                        0.002   Durbin-Watson:                   1.340\n",
      "Prob(Omnibus):                  0.999   Jarque-Bera (JB):                0.189\n",
      "Skew:                           0.018   Prob(JB):                        0.910\n",
      "Kurtosis:                       2.431   Cond. No.                         18.2\n",
      "==============================================================================\n",
      "\n",
      "Notes:\n",
      "[1] Standard Errors assume that the covariance matrix of the errors is correctly specified.\n"
     ]
    }
   ],
   "source": [
    "X = sm.add_constant(X)\n",
    "reg = sm.OLS(Y, X)\n",
    "model_reg = reg.fit()\n",
    "print(model_reg.summary())"
   ]
  },
  {
   "cell_type": "markdown",
   "metadata": {},
   "source": [
    "Показатель R<sup>2</sup>  говорит о том, что около 98% изменчивости данных объясняются данной моделью, полученный коэффициент при х говорит о том, что с каждой последующей неделей количество заказов в среднем будет увеличиваться на 248 (95%-й доверительный интервал 227-268)."
   ]
  },
  {
   "cell_type": "code",
   "execution_count": 18,
   "metadata": {},
   "outputs": [
    {
     "data": {
      "image/png": "[encoded data removed]",
      "text/plain": [
       "<Figure size 864x432 with 1 Axes>"
      ]
     },
     "metadata": {},
     "output_type": "display_data"
    }
   ],
   "source": [
    "sns.set(style='whitegrid', rc={'figure.figsize' : (12,6)})\n",
    "sns.regplot(x = 'x', y = 'quantity', data = df)\n",
    "\n",
    "plt.title('Количество заказов, линейная регрессия')\n",
    "plt.xlabel(\"Номер недели\")\n",
    "plt.ylabel(\"Количество заказов\")\n",
    "sns.despine()"
   ]
  },
  {
   "cell_type": "markdown",
   "metadata": {},
   "source": [
    "Рассчитаем ошибку модели."
   ]
  },
  {
   "cell_type": "code",
   "execution_count": 19,
   "metadata": {},
   "outputs": [],
   "source": [
    "df['y_pred'] = model_reg.predict(X)"
   ]
  },
  {
   "cell_type": "code",
   "execution_count": 20,
   "metadata": {},
   "outputs": [
    {
     "name": "stdout",
     "output_type": "stream",
     "text": [
      "MAPE (средняя абсолютная ошибка в процентах) –  5.9 %\n",
      "MAE (средняя абсолютная ошибка) –  107\n"
     ]
    }
   ],
   "source": [
    "df['e'] = df['quantity'] - df['y_pred']\n",
    "df['p'] = 100 * df['e'] / df['quantity']\n",
    "print('MAPE (средняя абсолютная ошибка в процентах) – ', round(np.mean(abs(df['p'])), 1), '%')\n",
    "print('MAE (средняя абсолютная ошибка) – ', round(np.mean(abs(df['e']))))"
   ]
  },
  {
   "cell_type": "markdown",
   "metadata": {},
   "source": [
    "Средняя ошибка модели меньше 6%, сформируем с её помощью прогноз на следующие три месяца."
   ]
  },
  {
   "cell_type": "code",
   "execution_count": 21,
   "metadata": {},
   "outputs": [],
   "source": [
    "x_new = pd.Series(np.array(range(15, 29)))\n",
    "x_new = sm.add_constant(x_new)\n",
    "y_new = round(model_reg.predict(x_new), 2)\n",
    "\n",
    "final_df = pd.DataFrame({'date': pd.date_range(start='2020/04/12', end='2020/07/12', freq='W'), 'quantity': y_new})"
   ]
  },
  {
   "cell_type": "code",
   "execution_count": 22,
   "metadata": {},
   "outputs": [],
   "source": [
    "df = df[['date', 'quantity']]\n",
    "\n",
    "final_df['date'] = final_df['date'].astype(str)\n",
    "final_df = df.append(final_df).reset_index().drop(columns=['index'])"
   ]
  },
  {
   "cell_type": "code",
   "execution_count": 23,
   "metadata": {},
   "outputs": [
    {
     "data": {
      "image/png": "[encoded data removed]",
      "text/plain": [
       "<Figure size 720x360 with 1 Axes>"
      ]
     },
     "metadata": {},
     "output_type": "display_data"
    }
   ],
   "source": [
    "sns.set(style='whitegrid', rc={'figure.figsize' : (10,5)})\n",
    "sns.regplot(x = final_df.index, y = 'quantity', data = final_df)\n",
    "\n",
    "plt.title('Прогноз количества заказов')\n",
    "plt.xlabel(\"Номер недели\")\n",
    "plt.ylabel(\"Количество заказов\")\n",
    "sns.despine()"
   ]
  },
  {
   "cell_type": "code",
   "execution_count": 24,
   "metadata": {},
   "outputs": [
    {
     "data": {
      "text/html": [
       "<div>\n",
       "<style scoped>\n",
       "    .dataframe tbody tr th:only-of-type {\n",
       "        vertical-align: middle;\n",
       "    }\n",
       "\n",
       "    .dataframe tbody tr th {\n",
       "        vertical-align: top;\n",
       "    }\n",
       "\n",
       "    .dataframe thead th {\n",
       "        text-align: right;\n",
       "    }\n",
       "</style>\n",
       "<table border=\"1\" class=\"dataframe\">\n",
       "  <thead>\n",
       "    <tr style=\"text-align: right;\">\n",
       "      <th></th>\n",
       "      <th>date</th>\n",
       "      <th>quantity</th>\n",
       "    </tr>\n",
       "  </thead>\n",
       "  <tbody>\n",
       "    <tr>\n",
       "      <th>14</th>\n",
       "      <td>2020-04-12</td>\n",
       "      <td>3981.25</td>\n",
       "    </tr>\n",
       "    <tr>\n",
       "      <th>15</th>\n",
       "      <td>2020-04-19</td>\n",
       "      <td>4229.56</td>\n",
       "    </tr>\n",
       "    <tr>\n",
       "      <th>16</th>\n",
       "      <td>2020-04-26</td>\n",
       "      <td>4477.87</td>\n",
       "    </tr>\n",
       "    <tr>\n",
       "      <th>17</th>\n",
       "      <td>2020-05-03</td>\n",
       "      <td>4726.18</td>\n",
       "    </tr>\n",
       "    <tr>\n",
       "      <th>18</th>\n",
       "      <td>2020-05-10</td>\n",
       "      <td>4974.49</td>\n",
       "    </tr>\n",
       "    <tr>\n",
       "      <th>19</th>\n",
       "      <td>2020-05-17</td>\n",
       "      <td>5222.80</td>\n",
       "    </tr>\n",
       "    <tr>\n",
       "      <th>20</th>\n",
       "      <td>2020-05-24</td>\n",
       "      <td>5471.11</td>\n",
       "    </tr>\n",
       "    <tr>\n",
       "      <th>21</th>\n",
       "      <td>2020-05-31</td>\n",
       "      <td>5719.42</td>\n",
       "    </tr>\n",
       "    <tr>\n",
       "      <th>22</th>\n",
       "      <td>2020-06-07</td>\n",
       "      <td>5967.73</td>\n",
       "    </tr>\n",
       "    <tr>\n",
       "      <th>23</th>\n",
       "      <td>2020-06-14</td>\n",
       "      <td>6216.04</td>\n",
       "    </tr>\n",
       "    <tr>\n",
       "      <th>24</th>\n",
       "      <td>2020-06-21</td>\n",
       "      <td>6464.35</td>\n",
       "    </tr>\n",
       "    <tr>\n",
       "      <th>25</th>\n",
       "      <td>2020-06-28</td>\n",
       "      <td>6712.66</td>\n",
       "    </tr>\n",
       "    <tr>\n",
       "      <th>26</th>\n",
       "      <td>2020-07-05</td>\n",
       "      <td>6960.97</td>\n",
       "    </tr>\n",
       "    <tr>\n",
       "      <th>27</th>\n",
       "      <td>2020-07-12</td>\n",
       "      <td>7209.28</td>\n",
       "    </tr>\n",
       "  </tbody>\n",
       "</table>\n",
       "</div>"
      ],
      "text/plain": [
       "          date  quantity\n",
       "14  2020-04-12   3981.25\n",
       "15  2020-04-19   4229.56\n",
       "16  2020-04-26   4477.87\n",
       "17  2020-05-03   4726.18\n",
       "18  2020-05-10   4974.49\n",
       "19  2020-05-17   5222.80\n",
       "20  2020-05-24   5471.11\n",
       "21  2020-05-31   5719.42\n",
       "22  2020-06-07   5967.73\n",
       "23  2020-06-14   6216.04\n",
       "24  2020-06-21   6464.35\n",
       "25  2020-06-28   6712.66\n",
       "26  2020-07-05   6960.97\n",
       "27  2020-07-12   7209.28"
      ]
     },
     "execution_count": 24,
     "metadata": {},
     "output_type": "execute_result"
    }
   ],
   "source": [
    "final_df[14:]"
   ]
  },
  {
   "cell_type": "markdown",
   "metadata": {},
   "source": [
    "Мы получили прогноз на следующие 14 недель, который учитывает общий тренд наших данных без учета  \n",
    "\n",
    "Имея в распоряжении бОльшее количество данных и возможность учесть факторы недельной и годовой сезонности, цикличности, праздников, маркетинговых мероприятий, уровня цен и других, можно лучше понять их структуру, устойчивость и составлять надежные прогнозы."
   ]
  },
  {
   "cell_type": "markdown",
   "metadata": {},
   "source": [
    "# Задание 3\n",
    "\n",
    "В базе данных вашей компании присутствуют следующие таблицы\n",
    "\n",
    "**city**\n",
    "* city_id – id города, где проходит акция\n",
    "* client_city_id – id города, где находится покупатель\n",
    "* city – город\n",
    "* client_city – город, где находится покупатель\n",
    "\n",
    "**client**\n",
    "* client_id – id покупателя\n",
    "* client_city_id – id города, где находится покупатель\n",
    "* birth_date – дата рождения покупателя\n",
    "* registration – дата регистрации покупателя\n",
    "\n",
    "**promotion**\n",
    "* promotion_id – id акции\n",
    "* category_id – id категории\n",
    "* promotion_name – акция\n",
    "* category_name – категория\n",
    "* partner_id – id партнёра\n",
    "* partner_name – партнёр\n",
    "\n",
    "**purchase**\n",
    "* purchase_id – id покупки\n",
    "* partner_id – id партнёра\n",
    "* client_id – id покупателя\n",
    "* city_id – id города\n",
    "* promotion_id – id акции\n",
    "* category_id – id категории\n",
    "* purchase_date – дата покупки\n",
    "* price – цена за единицу товара\n",
    "* quantity – число проданных единиц\n",
    "* status – статус покупки\n",
    "\n",
    "Вам нужно написать запрос, чтобы получить такую таблицу\n",
    "\n",
    "* purchase_date – дата покупки\n",
    "* purchase_id – id покупки\n",
    "* client_id – id покупателя\n",
    "* client_age – возраст покупателя\n",
    "* client_registration_age – как долго человек пользуется вашими магазинами\n",
    "* client_category – содержит new или old, если это первая или последующая покупка соответственно\n",
    "* promotion_name – акция\n",
    "* category_name – категория\n",
    "* partner_name – партнёр\n",
    "* client_city – город, где находится покупатель\n",
    "* city – город\n",
    "* revenue – сумма выручки\n",
    "* quantity – число проданных единиц\n",
    "\n",
    "При этом в таблице должны присутствовать только значения, где в поле **status** стоит значение 1, и только те, где **purchase_date** находится в диапазоне от 01.05.2020 до 01.08.2020"
   ]
  },
  {
   "cell_type": "code",
   "execution_count": 25,
   "metadata": {},
   "outputs": [],
   "source": [
    "connection = dict(database='default',\n",
    "                  host='https://clickhouse.lab.karpov.courses',\n",
    "                  user='*****',\n",
    "                  password='*****')"
   ]
  },
  {
   "cell_type": "code",
   "execution_count": 26,
   "metadata": {},
   "outputs": [],
   "source": [
    "query = \"\"\"\n",
    "SELECT \n",
    "    purchase_date,\n",
    "    purchase_id,\n",
    "    purchase.client_id AS client_id,\n",
    "    dateDiff('year', birth_date, purchase_date) AS client_age,\n",
    "    dateDiff('month', registration, purchase_date) AS client_registration_age,\n",
    "    CASE \n",
    "        WHEN purchase_date = min_date THEN 'new'\n",
    "        ELSE 'old'\n",
    "    END AS client_category,\n",
    "    promotion_name,\n",
    "    category_name,\n",
    "    partner_name,\n",
    "    client_city,\n",
    "    city,\n",
    "    toFloat32(quantity*price) AS renvenue,\n",
    "    toFloat32(quantity) AS quantity\n",
    "FROM \n",
    "    project_variant_2.purchase\n",
    "    INNER JOIN project_variant_2.client ON client.client_id = purchase.client_id\n",
    "    INNER JOIN project_variant_2.city ON city.city_id = purchase.city_id AND city.client_city_id = client.client_city_id\n",
    "    INNER JOIN (SELECT promotion_id,\n",
    "                      promotion_name\n",
    "                FROM project_variant_2.promotion) promo ON promo.promotion_id = purchase.promotion_id\n",
    "    INNER JOIN (SELECT category_id,\n",
    "                      category_name\n",
    "                FROM project_variant_2.promotion) category ON category.category_id = purchase.category_id \n",
    "    INNER JOIN (SELECT partner_id,\n",
    "                      partner_name\n",
    "                FROM project_variant_2.promotion) partner ON partner.partner_id = purchase.partner_id\n",
    "    INNER JOIN (SELECT\n",
    "                    client_id,\n",
    "                    min(purchase_date) AS min_date\n",
    "                FROM project_variant_2.purchase\n",
    "                WHERE status == 1\n",
    "                GROUP BY client_id)  AS r ON r.client_id = purchase.client_id\n",
    "WHERE status == 1 AND purchase_date >= '2020-05-01' AND purchase_date < '2020-08-01'\n",
    "\"\"\""
   ]
  },
  {
   "cell_type": "code",
   "execution_count": 27,
   "metadata": {},
   "outputs": [
    {
     "data": {
      "text/html": [
       "<div>\n",
       "<style scoped>\n",
       "    .dataframe tbody tr th:only-of-type {\n",
       "        vertical-align: middle;\n",
       "    }\n",
       "\n",
       "    .dataframe tbody tr th {\n",
       "        vertical-align: top;\n",
       "    }\n",
       "\n",
       "    .dataframe thead th {\n",
       "        text-align: right;\n",
       "    }\n",
       "</style>\n",
       "<table border=\"1\" class=\"dataframe\">\n",
       "  <thead>\n",
       "    <tr style=\"text-align: right;\">\n",
       "      <th></th>\n",
       "      <th>purchase_date</th>\n",
       "      <th>purchase_id</th>\n",
       "      <th>client_id</th>\n",
       "      <th>client_age</th>\n",
       "      <th>client_registration_age</th>\n",
       "      <th>client_category</th>\n",
       "      <th>promotion_name</th>\n",
       "      <th>category_name</th>\n",
       "      <th>partner_name</th>\n",
       "      <th>client_city</th>\n",
       "      <th>city</th>\n",
       "      <th>renvenue</th>\n",
       "      <th>quantity</th>\n",
       "    </tr>\n",
       "  </thead>\n",
       "  <tbody>\n",
       "    <tr>\n",
       "      <th>0</th>\n",
       "      <td>2020-06-05</td>\n",
       "      <td>0</td>\n",
       "      <td>853</td>\n",
       "      <td>28</td>\n",
       "      <td>12</td>\n",
       "      <td>old</td>\n",
       "      <td>campaign_2</td>\n",
       "      <td>Фрукты</td>\n",
       "      <td>Всем партнёрам партнёр</td>\n",
       "      <td>Ярославль</td>\n",
       "      <td>Киев</td>\n",
       "      <td>150.0</td>\n",
       "      <td>5.0</td>\n",
       "    </tr>\n",
       "    <tr>\n",
       "      <th>1</th>\n",
       "      <td>2020-06-15</td>\n",
       "      <td>1</td>\n",
       "      <td>406</td>\n",
       "      <td>23</td>\n",
       "      <td>8</td>\n",
       "      <td>old</td>\n",
       "      <td>campaign_4</td>\n",
       "      <td>Прочее</td>\n",
       "      <td>Всем партнёрам партнёр</td>\n",
       "      <td>Минск</td>\n",
       "      <td>Новгород</td>\n",
       "      <td>1150.0</td>\n",
       "      <td>5.0</td>\n",
       "    </tr>\n",
       "    <tr>\n",
       "      <th>2</th>\n",
       "      <td>2020-07-16</td>\n",
       "      <td>15</td>\n",
       "      <td>109</td>\n",
       "      <td>29</td>\n",
       "      <td>20</td>\n",
       "      <td>old</td>\n",
       "      <td>campaign_4</td>\n",
       "      <td>Прочее</td>\n",
       "      <td>ООО Ширяева, Хохлова и Тимофеева</td>\n",
       "      <td>Щучинщина</td>\n",
       "      <td>Санкт-Петербург</td>\n",
       "      <td>440.0</td>\n",
       "      <td>8.0</td>\n",
       "    </tr>\n",
       "    <tr>\n",
       "      <th>3</th>\n",
       "      <td>2020-05-18</td>\n",
       "      <td>26</td>\n",
       "      <td>10</td>\n",
       "      <td>20</td>\n",
       "      <td>6</td>\n",
       "      <td>old</td>\n",
       "      <td>campaign_4</td>\n",
       "      <td>Прочее</td>\n",
       "      <td>KarpovCourses</td>\n",
       "      <td>Ярославль</td>\n",
       "      <td>Санкт-Петербург</td>\n",
       "      <td>570.0</td>\n",
       "      <td>2.0</td>\n",
       "    </tr>\n",
       "    <tr>\n",
       "      <th>4</th>\n",
       "      <td>2020-07-07</td>\n",
       "      <td>27</td>\n",
       "      <td>366</td>\n",
       "      <td>26</td>\n",
       "      <td>12</td>\n",
       "      <td>old</td>\n",
       "      <td>campaign_2</td>\n",
       "      <td>Фрукты</td>\n",
       "      <td>KarpovCourses</td>\n",
       "      <td>Казань</td>\n",
       "      <td>Казань</td>\n",
       "      <td>880.0</td>\n",
       "      <td>4.0</td>\n",
       "    </tr>\n",
       "    <tr>\n",
       "      <th>5</th>\n",
       "      <td>2020-07-08</td>\n",
       "      <td>33</td>\n",
       "      <td>77</td>\n",
       "      <td>23</td>\n",
       "      <td>6</td>\n",
       "      <td>old</td>\n",
       "      <td>campaign_2</td>\n",
       "      <td>Фрукты</td>\n",
       "      <td>KarpovCourses</td>\n",
       "      <td>Вена</td>\n",
       "      <td>Минск</td>\n",
       "      <td>555.0</td>\n",
       "      <td>3.0</td>\n",
       "    </tr>\n",
       "    <tr>\n",
       "      <th>6</th>\n",
       "      <td>2020-05-29</td>\n",
       "      <td>38</td>\n",
       "      <td>46</td>\n",
       "      <td>30</td>\n",
       "      <td>16</td>\n",
       "      <td>old</td>\n",
       "      <td>campaign_2</td>\n",
       "      <td>Фрукты</td>\n",
       "      <td>KarpovCourses</td>\n",
       "      <td>Москва</td>\n",
       "      <td>Москва</td>\n",
       "      <td>2820.0</td>\n",
       "      <td>6.0</td>\n",
       "    </tr>\n",
       "    <tr>\n",
       "      <th>7</th>\n",
       "      <td>2020-06-04</td>\n",
       "      <td>44</td>\n",
       "      <td>881</td>\n",
       "      <td>27</td>\n",
       "      <td>4</td>\n",
       "      <td>old</td>\n",
       "      <td>campaign_1</td>\n",
       "      <td>Бакалея</td>\n",
       "      <td>KarpovCourses</td>\n",
       "      <td>Вена</td>\n",
       "      <td>Новгород</td>\n",
       "      <td>1530.0</td>\n",
       "      <td>6.0</td>\n",
       "    </tr>\n",
       "    <tr>\n",
       "      <th>8</th>\n",
       "      <td>2020-05-17</td>\n",
       "      <td>47</td>\n",
       "      <td>945</td>\n",
       "      <td>24</td>\n",
       "      <td>8</td>\n",
       "      <td>old</td>\n",
       "      <td>campaign_3</td>\n",
       "      <td>Овощи</td>\n",
       "      <td>Всем партнёрам партнёр</td>\n",
       "      <td>Казань</td>\n",
       "      <td>Казань</td>\n",
       "      <td>680.0</td>\n",
       "      <td>4.0</td>\n",
       "    </tr>\n",
       "    <tr>\n",
       "      <th>9</th>\n",
       "      <td>2020-06-01</td>\n",
       "      <td>50</td>\n",
       "      <td>901</td>\n",
       "      <td>22</td>\n",
       "      <td>16</td>\n",
       "      <td>old</td>\n",
       "      <td>campaign_2</td>\n",
       "      <td>Фрукты</td>\n",
       "      <td>KarpovCourses</td>\n",
       "      <td>Санкт-Петербург</td>\n",
       "      <td>Минск</td>\n",
       "      <td>165.0</td>\n",
       "      <td>1.0</td>\n",
       "    </tr>\n",
       "  </tbody>\n",
       "</table>\n",
       "</div>"
      ],
      "text/plain": [
       "  purchase_date  purchase_id  client_id  client_age  client_registration_age  \\\n",
       "0    2020-06-05            0        853          28                       12   \n",
       "1    2020-06-15            1        406          23                        8   \n",
       "2    2020-07-16           15        109          29                       20   \n",
       "3    2020-05-18           26         10          20                        6   \n",
       "4    2020-07-07           27        366          26                       12   \n",
       "5    2020-07-08           33         77          23                        6   \n",
       "6    2020-05-29           38         46          30                       16   \n",
       "7    2020-06-04           44        881          27                        4   \n",
       "8    2020-05-17           47        945          24                        8   \n",
       "9    2020-06-01           50        901          22                       16   \n",
       "\n",
       "  client_category promotion_name category_name  \\\n",
       "0             old     campaign_2        Фрукты   \n",
       "1             old     campaign_4        Прочее   \n",
       "2             old     campaign_4        Прочее   \n",
       "3             old     campaign_4        Прочее   \n",
       "4             old     campaign_2        Фрукты   \n",
       "5             old     campaign_2        Фрукты   \n",
       "6             old     campaign_2        Фрукты   \n",
       "7             old     campaign_1       Бакалея   \n",
       "8             old     campaign_3         Овощи   \n",
       "9             old     campaign_2        Фрукты   \n",
       "\n",
       "                       partner_name      client_city             city  \\\n",
       "0            Всем партнёрам партнёр        Ярославль             Киев   \n",
       "1            Всем партнёрам партнёр            Минск         Новгород   \n",
       "2  ООО Ширяева, Хохлова и Тимофеева        Щучинщина  Санкт-Петербург   \n",
       "3                     KarpovCourses        Ярославль  Санкт-Петербург   \n",
       "4                     KarpovCourses           Казань           Казань   \n",
       "5                     KarpovCourses             Вена            Минск   \n",
       "6                     KarpovCourses           Москва           Москва   \n",
       "7                     KarpovCourses             Вена         Новгород   \n",
       "8            Всем партнёрам партнёр           Казань           Казань   \n",
       "9                     KarpovCourses  Санкт-Петербург            Минск   \n",
       "\n",
       "   renvenue  quantity  \n",
       "0     150.0       5.0  \n",
       "1    1150.0       5.0  \n",
       "2     440.0       8.0  \n",
       "3     570.0       2.0  \n",
       "4     880.0       4.0  \n",
       "5     555.0       3.0  \n",
       "6    2820.0       6.0  \n",
       "7    1530.0       6.0  \n",
       "8     680.0       4.0  \n",
       "9     165.0       1.0  "
      ]
     },
     "execution_count": 27,
     "metadata": {},
     "output_type": "execute_result"
    }
   ],
   "source": [
    "data = ph.read_clickhouse(query, connection=connection)\n",
    "data.head(10)"
   ]
  }
 ],
 "metadata": {
  "kernelspec": {
   "display_name": "Python 3",
   "language": "python",
   "name": "python3"
  },
  "language_info": {
   "codemirror_mode": {
    "name": "ipython",
    "version": 3
   },
   "file_extension": ".py",
   "mimetype": "text/x-python",
   "name": "python",
   "nbconvert_exporter": "python",
   "pygments_lexer": "ipython3",
   "version": "3.7.3"
  }
 },
 "nbformat": 4,
 "nbformat_minor": 4
}
