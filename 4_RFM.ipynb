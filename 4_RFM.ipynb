{
 "cells": [
  {
   "cell_type": "markdown",
   "metadata": {},
   "source": [
    "## Сегментация клиентов с помощью RFM-анализа\n",
    "Провести RFM анализ, в каждом подсегменте выделить 4 класса пользователей."
   ]
  },
  {
   "cell_type": "code",
   "execution_count": 1,
   "metadata": {},
   "outputs": [],
   "source": [
    "import pandas as pd\n",
    "import numpy as np\n",
    "import matplotlib.pyplot as plt\n",
    "import seaborn as sns\n",
    "sns.set()"
   ]
  },
  {
   "cell_type": "code",
   "execution_count": 2,
   "metadata": {},
   "outputs": [
    {
     "data": {
      "text/html": [
       "<div>\n",
       "<style scoped>\n",
       "    .dataframe tbody tr th:only-of-type {\n",
       "        vertical-align: middle;\n",
       "    }\n",
       "\n",
       "    .dataframe tbody tr th {\n",
       "        vertical-align: top;\n",
       "    }\n",
       "\n",
       "    .dataframe thead th {\n",
       "        text-align: right;\n",
       "    }\n",
       "</style>\n",
       "<table border=\"1\" class=\"dataframe\">\n",
       "  <thead>\n",
       "    <tr style=\"text-align: right;\">\n",
       "      <th></th>\n",
       "      <th>InvoiceNo</th>\n",
       "      <th>CustomerCode</th>\n",
       "      <th>InvoiceDate</th>\n",
       "      <th>Amount</th>\n",
       "    </tr>\n",
       "  </thead>\n",
       "  <tbody>\n",
       "    <tr>\n",
       "      <th>0</th>\n",
       "      <td>C0011810010001</td>\n",
       "      <td>19067290</td>\n",
       "      <td>2020-09-01</td>\n",
       "      <td>1716.0</td>\n",
       "    </tr>\n",
       "    <tr>\n",
       "      <th>1</th>\n",
       "      <td>C0011810010017</td>\n",
       "      <td>13233933</td>\n",
       "      <td>2020-09-01</td>\n",
       "      <td>1489.74</td>\n",
       "    </tr>\n",
       "    <tr>\n",
       "      <th>2</th>\n",
       "      <td>C0011810010020</td>\n",
       "      <td>99057968</td>\n",
       "      <td>2020-09-01</td>\n",
       "      <td>151.47</td>\n",
       "    </tr>\n",
       "    <tr>\n",
       "      <th>3</th>\n",
       "      <td>C0011810010021</td>\n",
       "      <td>80007276</td>\n",
       "      <td>2020-09-01</td>\n",
       "      <td>146.72</td>\n",
       "    </tr>\n",
       "    <tr>\n",
       "      <th>4</th>\n",
       "      <td>C0011810010024</td>\n",
       "      <td>13164076</td>\n",
       "      <td>2020-09-01</td>\n",
       "      <td>104.0</td>\n",
       "    </tr>\n",
       "  </tbody>\n",
       "</table>\n",
       "</div>"
      ],
      "text/plain": [
       "        InvoiceNo CustomerCode InvoiceDate   Amount\n",
       "0  C0011810010001     19067290  2020-09-01   1716.0\n",
       "1  C0011810010017     13233933  2020-09-01  1489.74\n",
       "2  C0011810010020     99057968  2020-09-01   151.47\n",
       "3  C0011810010021     80007276  2020-09-01   146.72\n",
       "4  C0011810010024     13164076  2020-09-01    104.0"
      ]
     },
     "execution_count": 2,
     "metadata": {},
     "output_type": "execute_result"
    }
   ],
   "source": [
    "orders = pd.read_csv('ht_data.csv', sep=',', dtype='str')\n",
    "orders.head()"
   ]
  },
  {
   "cell_type": "code",
   "execution_count": 3,
   "metadata": {},
   "outputs": [
    {
     "name": "stdout",
     "output_type": "stream",
     "text": [
      "<class 'pandas.core.frame.DataFrame'>\n",
      "RangeIndex: 332730 entries, 0 to 332729\n",
      "Data columns (total 4 columns):\n",
      " #   Column        Non-Null Count   Dtype \n",
      "---  ------        --------------   ----- \n",
      " 0   InvoiceNo     332730 non-null  object\n",
      " 1   CustomerCode  332730 non-null  object\n",
      " 2   InvoiceDate   332730 non-null  object\n",
      " 3   Amount        332730 non-null  object\n",
      "dtypes: object(4)\n",
      "memory usage: 10.2+ MB\n"
     ]
    }
   ],
   "source": [
    "orders.info()"
   ]
  },
  {
   "cell_type": "code",
   "execution_count": 4,
   "metadata": {},
   "outputs": [],
   "source": [
    "# приведем данные к нужным типам\n",
    "orders['InvoiceDate'] = pd.to_datetime(orders.InvoiceDate, dayfirst = True)\n",
    "orders['Amount'] = orders['Amount'].astype(float)"
   ]
  },
  {
   "cell_type": "code",
   "execution_count": 5,
   "metadata": {},
   "outputs": [
    {
     "data": {
      "text/plain": [
       "count                           332730\n",
       "mean     2020-09-15 16:35:03.846361856\n",
       "min                2020-09-01 00:00:00\n",
       "25%                2020-09-08 00:00:00\n",
       "50%                2020-09-16 00:00:00\n",
       "75%                2020-09-24 00:00:00\n",
       "max                2020-09-30 00:00:00\n",
       "Name: InvoiceDate, dtype: object"
      ]
     },
     "execution_count": 5,
     "metadata": {},
     "output_type": "execute_result"
    }
   ],
   "source": [
    "orders.InvoiceDate.describe(datetime_is_numeric = True)"
   ]
  },
  {
   "cell_type": "code",
   "execution_count": 6,
   "metadata": {},
   "outputs": [
    {
     "data": {
      "text/plain": [
       "Timestamp('2020-09-30 00:00:00')"
      ]
     },
     "execution_count": 6,
     "metadata": {},
     "output_type": "execute_result"
    }
   ],
   "source": [
    "# запишем максимальную дату в датасете для дальнейшего расчета последнего посещения пользователя\n",
    "last_date = orders['InvoiceDate'].max()\n",
    "last_date"
   ]
  },
  {
   "cell_type": "markdown",
   "metadata": {},
   "source": [
    "Рассчитаем показатели Recency, Frequency и Monetary Value для каждого пользователя"
   ]
  },
  {
   "cell_type": "code",
   "execution_count": 7,
   "metadata": {},
   "outputs": [
    {
     "data": {
      "text/html": [
       "<div>\n",
       "<style scoped>\n",
       "    .dataframe tbody tr th:only-of-type {\n",
       "        vertical-align: middle;\n",
       "    }\n",
       "\n",
       "    .dataframe tbody tr th {\n",
       "        vertical-align: top;\n",
       "    }\n",
       "\n",
       "    .dataframe thead th {\n",
       "        text-align: right;\n",
       "    }\n",
       "</style>\n",
       "<table border=\"1\" class=\"dataframe\">\n",
       "  <thead>\n",
       "    <tr style=\"text-align: right;\">\n",
       "      <th></th>\n",
       "      <th>recency</th>\n",
       "      <th>frequency</th>\n",
       "      <th>monetary_value</th>\n",
       "    </tr>\n",
       "    <tr>\n",
       "      <th>CustomerCode</th>\n",
       "      <th></th>\n",
       "      <th></th>\n",
       "      <th></th>\n",
       "    </tr>\n",
       "  </thead>\n",
       "  <tbody>\n",
       "    <tr>\n",
       "      <th>02213019</th>\n",
       "      <td>19</td>\n",
       "      <td>1</td>\n",
       "      <td>1609.20</td>\n",
       "    </tr>\n",
       "    <tr>\n",
       "      <th>02213042</th>\n",
       "      <td>22</td>\n",
       "      <td>3</td>\n",
       "      <td>9685.48</td>\n",
       "    </tr>\n",
       "    <tr>\n",
       "      <th>02213071</th>\n",
       "      <td>29</td>\n",
       "      <td>1</td>\n",
       "      <td>415.00</td>\n",
       "    </tr>\n",
       "    <tr>\n",
       "      <th>02213088</th>\n",
       "      <td>23</td>\n",
       "      <td>1</td>\n",
       "      <td>305.00</td>\n",
       "    </tr>\n",
       "    <tr>\n",
       "      <th>02213092</th>\n",
       "      <td>25</td>\n",
       "      <td>1</td>\n",
       "      <td>1412.88</td>\n",
       "    </tr>\n",
       "    <tr>\n",
       "      <th>...</th>\n",
       "      <td>...</td>\n",
       "      <td>...</td>\n",
       "      <td>...</td>\n",
       "    </tr>\n",
       "    <tr>\n",
       "      <th>99099927</th>\n",
       "      <td>10</td>\n",
       "      <td>1</td>\n",
       "      <td>961.10</td>\n",
       "    </tr>\n",
       "    <tr>\n",
       "      <th>99099936</th>\n",
       "      <td>0</td>\n",
       "      <td>1</td>\n",
       "      <td>1521.78</td>\n",
       "    </tr>\n",
       "    <tr>\n",
       "      <th>99099959</th>\n",
       "      <td>8</td>\n",
       "      <td>2</td>\n",
       "      <td>1444.56</td>\n",
       "    </tr>\n",
       "    <tr>\n",
       "      <th>99099963</th>\n",
       "      <td>19</td>\n",
       "      <td>1</td>\n",
       "      <td>3018.91</td>\n",
       "    </tr>\n",
       "    <tr>\n",
       "      <th>99099972</th>\n",
       "      <td>0</td>\n",
       "      <td>2</td>\n",
       "      <td>4577.37</td>\n",
       "    </tr>\n",
       "  </tbody>\n",
       "</table>\n",
       "<p>123733 rows × 3 columns</p>\n",
       "</div>"
      ],
      "text/plain": [
       "              recency  frequency  monetary_value\n",
       "CustomerCode                                    \n",
       "02213019           19          1         1609.20\n",
       "02213042           22          3         9685.48\n",
       "02213071           29          1          415.00\n",
       "02213088           23          1          305.00\n",
       "02213092           25          1         1412.88\n",
       "...               ...        ...             ...\n",
       "99099927           10          1          961.10\n",
       "99099936            0          1         1521.78\n",
       "99099959            8          2         1444.56\n",
       "99099963           19          1         3018.91\n",
       "99099972            0          2         4577.37\n",
       "\n",
       "[123733 rows x 3 columns]"
      ]
     },
     "execution_count": 7,
     "metadata": {},
     "output_type": "execute_result"
    }
   ],
   "source": [
    "rfmTable = (orders.groupby('CustomerCode').agg({'InvoiceDate': lambda x: (last_date - x.max()).days,\n",
    "                                           'InvoiceNo': lambda x: len(x), \n",
    "                                           'Amount': lambda x: x.sum()})\n",
    "                                          .rename(columns={'InvoiceDate': 'recency', \n",
    "                                                       'InvoiceNo': 'frequency', \n",
    "                                                       'Amount': 'monetary_value'}))\n",
    "rfmTable"
   ]
  },
  {
   "cell_type": "markdown",
   "metadata": {},
   "source": [
    "Расчитаем квантили по каждому показателю"
   ]
  },
  {
   "cell_type": "code",
   "execution_count": 8,
   "metadata": {},
   "outputs": [
    {
     "data": {
      "text/html": [
       "<div>\n",
       "<style scoped>\n",
       "    .dataframe tbody tr th:only-of-type {\n",
       "        vertical-align: middle;\n",
       "    }\n",
       "\n",
       "    .dataframe tbody tr th {\n",
       "        vertical-align: top;\n",
       "    }\n",
       "\n",
       "    .dataframe thead th {\n",
       "        text-align: right;\n",
       "    }\n",
       "</style>\n",
       "<table border=\"1\" class=\"dataframe\">\n",
       "  <thead>\n",
       "    <tr style=\"text-align: right;\">\n",
       "      <th></th>\n",
       "      <th>recency</th>\n",
       "      <th>frequency</th>\n",
       "      <th>monetary_value</th>\n",
       "    </tr>\n",
       "  </thead>\n",
       "  <tbody>\n",
       "    <tr>\n",
       "      <th>0.25</th>\n",
       "      <td>2.0</td>\n",
       "      <td>1.0</td>\n",
       "      <td>765.00</td>\n",
       "    </tr>\n",
       "    <tr>\n",
       "      <th>0.50</th>\n",
       "      <td>8.0</td>\n",
       "      <td>2.0</td>\n",
       "      <td>1834.48</td>\n",
       "    </tr>\n",
       "    <tr>\n",
       "      <th>0.75</th>\n",
       "      <td>16.0</td>\n",
       "      <td>3.0</td>\n",
       "      <td>4008.84</td>\n",
       "    </tr>\n",
       "  </tbody>\n",
       "</table>\n",
       "</div>"
      ],
      "text/plain": [
       "      recency  frequency  monetary_value\n",
       "0.25      2.0        1.0          765.00\n",
       "0.50      8.0        2.0         1834.48\n",
       "0.75     16.0        3.0         4008.84"
      ]
     },
     "execution_count": 8,
     "metadata": {},
     "output_type": "execute_result"
    }
   ],
   "source": [
    "quantiles = rfmTable.quantile(q=[0.25, 0.5, 0.75])\n",
    "quantiles"
   ]
  },
  {
   "cell_type": "code",
   "execution_count": 9,
   "metadata": {},
   "outputs": [],
   "source": [
    "rfmSegmentation = rfmTable"
   ]
  },
  {
   "cell_type": "code",
   "execution_count": 10,
   "metadata": {},
   "outputs": [],
   "source": [
    "\"\"\"Функции для определения принадлежности пользователя к классу. \n",
    "   Параметры:\n",
    "        value - колонка значений параметра,\n",
    "        parameter_name - наименование колонки с параметром,\n",
    "        uantiles_table - таблица с рассчитаными квантилями\n",
    "\"\"\"\n",
    "def RClass(value, parameter_name, quantiles_table):\n",
    "    if value <= quantiles_table[parameter_name][0.25]:\n",
    "        return 1\n",
    "    elif value <= quantiles_table[parameter_name][0.50]:\n",
    "        return 2\n",
    "    elif value <= quantiles_table[parameter_name][0.75]: \n",
    "        return 3\n",
    "    else:\n",
    "        return 4\n",
    "\n",
    "def FMClass(value, parameter_name, quantiles_table):\n",
    "    if value <= quantiles_table[parameter_name][0.25]:\n",
    "        return 4\n",
    "    elif value <= quantiles_table[parameter_name][0.50]:\n",
    "        return 3\n",
    "    elif value <= quantiles_table[parameter_name][0.75]: \n",
    "        return 2\n",
    "    else:\n",
    "        return 1"
   ]
  },
  {
   "cell_type": "markdown",
   "metadata": {},
   "source": [
    "Распределим пользователей по классам по каждому из показателей"
   ]
  },
  {
   "cell_type": "code",
   "execution_count": 11,
   "metadata": {},
   "outputs": [],
   "source": [
    "rfmSegmentation['R_Quartile'] = rfmSegmentation['recency'].apply(RClass, args=('recency', quantiles))\n",
    "\n",
    "rfmSegmentation['F_Quartile'] = rfmSegmentation['frequency'].apply(FMClass, args=('frequency', quantiles))\n",
    "\n",
    "rfmSegmentation['M_Quartile'] = rfmSegmentation['monetary_value'].apply(FMClass, args=('monetary_value', quantiles))\n",
    "\n",
    "rfmSegmentation['RFMClass'] = (rfmSegmentation.R_Quartile.map(str)\n",
    "                             + rfmSegmentation.F_Quartile.map(str)\n",
    "                             + rfmSegmentation.M_Quartile.map(str))"
   ]
  },
  {
   "cell_type": "code",
   "execution_count": 12,
   "metadata": {},
   "outputs": [
    {
     "data": {
      "text/html": [
       "<div>\n",
       "<style scoped>\n",
       "    .dataframe tbody tr th:only-of-type {\n",
       "        vertical-align: middle;\n",
       "    }\n",
       "\n",
       "    .dataframe tbody tr th {\n",
       "        vertical-align: top;\n",
       "    }\n",
       "\n",
       "    .dataframe thead th {\n",
       "        text-align: right;\n",
       "    }\n",
       "</style>\n",
       "<table border=\"1\" class=\"dataframe\">\n",
       "  <thead>\n",
       "    <tr style=\"text-align: right;\">\n",
       "      <th></th>\n",
       "      <th>recency</th>\n",
       "      <th>frequency</th>\n",
       "      <th>monetary_value</th>\n",
       "      <th>R_Quartile</th>\n",
       "      <th>F_Quartile</th>\n",
       "      <th>M_Quartile</th>\n",
       "      <th>RFMClass</th>\n",
       "    </tr>\n",
       "    <tr>\n",
       "      <th>CustomerCode</th>\n",
       "      <th></th>\n",
       "      <th></th>\n",
       "      <th></th>\n",
       "      <th></th>\n",
       "      <th></th>\n",
       "      <th></th>\n",
       "      <th></th>\n",
       "    </tr>\n",
       "  </thead>\n",
       "  <tbody>\n",
       "    <tr>\n",
       "      <th>02213019</th>\n",
       "      <td>19</td>\n",
       "      <td>1</td>\n",
       "      <td>1609.20</td>\n",
       "      <td>4</td>\n",
       "      <td>4</td>\n",
       "      <td>3</td>\n",
       "      <td>443</td>\n",
       "    </tr>\n",
       "    <tr>\n",
       "      <th>02213042</th>\n",
       "      <td>22</td>\n",
       "      <td>3</td>\n",
       "      <td>9685.48</td>\n",
       "      <td>4</td>\n",
       "      <td>2</td>\n",
       "      <td>1</td>\n",
       "      <td>421</td>\n",
       "    </tr>\n",
       "    <tr>\n",
       "      <th>02213071</th>\n",
       "      <td>29</td>\n",
       "      <td>1</td>\n",
       "      <td>415.00</td>\n",
       "      <td>4</td>\n",
       "      <td>4</td>\n",
       "      <td>4</td>\n",
       "      <td>444</td>\n",
       "    </tr>\n",
       "    <tr>\n",
       "      <th>02213088</th>\n",
       "      <td>23</td>\n",
       "      <td>1</td>\n",
       "      <td>305.00</td>\n",
       "      <td>4</td>\n",
       "      <td>4</td>\n",
       "      <td>4</td>\n",
       "      <td>444</td>\n",
       "    </tr>\n",
       "    <tr>\n",
       "      <th>02213092</th>\n",
       "      <td>25</td>\n",
       "      <td>1</td>\n",
       "      <td>1412.88</td>\n",
       "      <td>4</td>\n",
       "      <td>4</td>\n",
       "      <td>3</td>\n",
       "      <td>443</td>\n",
       "    </tr>\n",
       "    <tr>\n",
       "      <th>...</th>\n",
       "      <td>...</td>\n",
       "      <td>...</td>\n",
       "      <td>...</td>\n",
       "      <td>...</td>\n",
       "      <td>...</td>\n",
       "      <td>...</td>\n",
       "      <td>...</td>\n",
       "    </tr>\n",
       "    <tr>\n",
       "      <th>99099927</th>\n",
       "      <td>10</td>\n",
       "      <td>1</td>\n",
       "      <td>961.10</td>\n",
       "      <td>3</td>\n",
       "      <td>4</td>\n",
       "      <td>3</td>\n",
       "      <td>343</td>\n",
       "    </tr>\n",
       "    <tr>\n",
       "      <th>99099936</th>\n",
       "      <td>0</td>\n",
       "      <td>1</td>\n",
       "      <td>1521.78</td>\n",
       "      <td>1</td>\n",
       "      <td>4</td>\n",
       "      <td>3</td>\n",
       "      <td>143</td>\n",
       "    </tr>\n",
       "    <tr>\n",
       "      <th>99099959</th>\n",
       "      <td>8</td>\n",
       "      <td>2</td>\n",
       "      <td>1444.56</td>\n",
       "      <td>2</td>\n",
       "      <td>3</td>\n",
       "      <td>3</td>\n",
       "      <td>233</td>\n",
       "    </tr>\n",
       "    <tr>\n",
       "      <th>99099963</th>\n",
       "      <td>19</td>\n",
       "      <td>1</td>\n",
       "      <td>3018.91</td>\n",
       "      <td>4</td>\n",
       "      <td>4</td>\n",
       "      <td>2</td>\n",
       "      <td>442</td>\n",
       "    </tr>\n",
       "    <tr>\n",
       "      <th>99099972</th>\n",
       "      <td>0</td>\n",
       "      <td>2</td>\n",
       "      <td>4577.37</td>\n",
       "      <td>1</td>\n",
       "      <td>3</td>\n",
       "      <td>1</td>\n",
       "      <td>131</td>\n",
       "    </tr>\n",
       "  </tbody>\n",
       "</table>\n",
       "<p>123733 rows × 7 columns</p>\n",
       "</div>"
      ],
      "text/plain": [
       "              recency  frequency  monetary_value  R_Quartile  F_Quartile  \\\n",
       "CustomerCode                                                               \n",
       "02213019           19          1         1609.20           4           4   \n",
       "02213042           22          3         9685.48           4           2   \n",
       "02213071           29          1          415.00           4           4   \n",
       "02213088           23          1          305.00           4           4   \n",
       "02213092           25          1         1412.88           4           4   \n",
       "...               ...        ...             ...         ...         ...   \n",
       "99099927           10          1          961.10           3           4   \n",
       "99099936            0          1         1521.78           1           4   \n",
       "99099959            8          2         1444.56           2           3   \n",
       "99099963           19          1         3018.91           4           4   \n",
       "99099972            0          2         4577.37           1           3   \n",
       "\n",
       "              M_Quartile RFMClass  \n",
       "CustomerCode                       \n",
       "02213019               3      443  \n",
       "02213042               1      421  \n",
       "02213071               4      444  \n",
       "02213088               4      444  \n",
       "02213092               3      443  \n",
       "...                  ...      ...  \n",
       "99099927               3      343  \n",
       "99099936               3      143  \n",
       "99099959               3      233  \n",
       "99099963               2      442  \n",
       "99099972               1      131  \n",
       "\n",
       "[123733 rows x 7 columns]"
      ]
     },
     "execution_count": 12,
     "metadata": {},
     "output_type": "execute_result"
    }
   ],
   "source": [
    "rfmSegmentation"
   ]
  },
  {
   "cell_type": "markdown",
   "metadata": {},
   "source": [
    "Оценим численность групп, посмотрим на самые многочисленные"
   ]
  },
  {
   "cell_type": "code",
   "execution_count": 13,
   "metadata": {},
   "outputs": [
    {
     "data": {
      "text/html": [
       "<div>\n",
       "<style scoped>\n",
       "    .dataframe tbody tr th:only-of-type {\n",
       "        vertical-align: middle;\n",
       "    }\n",
       "\n",
       "    .dataframe tbody tr th {\n",
       "        vertical-align: top;\n",
       "    }\n",
       "\n",
       "    .dataframe thead th {\n",
       "        text-align: right;\n",
       "    }\n",
       "</style>\n",
       "<table border=\"1\" class=\"dataframe\">\n",
       "  <thead>\n",
       "    <tr style=\"text-align: right;\">\n",
       "      <th></th>\n",
       "      <th>monetary_value</th>\n",
       "    </tr>\n",
       "    <tr>\n",
       "      <th>RFMClass</th>\n",
       "      <th></th>\n",
       "    </tr>\n",
       "  </thead>\n",
       "  <tbody>\n",
       "    <tr>\n",
       "      <th>444</th>\n",
       "      <td>10624</td>\n",
       "    </tr>\n",
       "    <tr>\n",
       "      <th>111</th>\n",
       "      <td>9705</td>\n",
       "    </tr>\n",
       "    <tr>\n",
       "      <th>443</th>\n",
       "      <td>6729</td>\n",
       "    </tr>\n",
       "    <tr>\n",
       "      <th>344</th>\n",
       "      <td>6593</td>\n",
       "    </tr>\n",
       "    <tr>\n",
       "      <th>211</th>\n",
       "      <td>5847</td>\n",
       "    </tr>\n",
       "    <tr>\n",
       "      <th>244</th>\n",
       "      <td>4982</td>\n",
       "    </tr>\n",
       "    <tr>\n",
       "      <th>442</th>\n",
       "      <td>4106</td>\n",
       "    </tr>\n",
       "    <tr>\n",
       "      <th>343</th>\n",
       "      <td>3887</td>\n",
       "    </tr>\n",
       "    <tr>\n",
       "      <th>112</th>\n",
       "      <td>3602</td>\n",
       "    </tr>\n",
       "    <tr>\n",
       "      <th>144</th>\n",
       "      <td>3150</td>\n",
       "    </tr>\n",
       "  </tbody>\n",
       "</table>\n",
       "</div>"
      ],
      "text/plain": [
       "          monetary_value\n",
       "RFMClass                \n",
       "444                10624\n",
       "111                 9705\n",
       "443                 6729\n",
       "344                 6593\n",
       "211                 5847\n",
       "244                 4982\n",
       "442                 4106\n",
       "343                 3887\n",
       "112                 3602\n",
       "144                 3150"
      ]
     },
     "execution_count": 13,
     "metadata": {},
     "output_type": "execute_result"
    }
   ],
   "source": [
    "rfm_quantity = (rfmSegmentation.groupby('RFMClass')\n",
    "                .agg({'monetary_value':'count'})\n",
    "                .sort_values('monetary_value', ascending=False))\n",
    "rfm_quantity.head(10)"
   ]
  },
  {
   "cell_type": "markdown",
   "metadata": {},
   "source": [
    "Самая многочисленная группа с самыми низкими значениями по всем трём показателям, ненамного уступает ей группа с наилучшими параметрами.\n",
    "Отобразим итоговые данные RFM анализа с помощью тепловой карты."
   ]
  },
  {
   "cell_type": "code",
   "execution_count": 14,
   "metadata": {},
   "outputs": [
    {
     "data": {
      "image/png": "[encoded data removed]",
      "text/plain": [
       "<Figure size 864x432 with 2 Axes>"
      ]
     },
     "metadata": {},
     "output_type": "display_data"
    }
   ],
   "source": [
    "rfm_table = rfmSegmentation.pivot_table(\n",
    "                        index='R_Quartile', \n",
    "                        columns='F_Quartile', \n",
    "                        values='monetary_value', \n",
    "                        aggfunc=np.median).applymap(int)\n",
    "plt.figure(figsize=(12, 6))\n",
    "sns.heatmap(rfm_table, cmap=\"YlGnBu\", annot=True, fmt=\".0f\", linewidths=4.15, annot_kws={\"size\": 10},yticklabels=4);"
   ]
  },
  {
   "cell_type": "markdown",
   "metadata": {},
   "source": [
    "Мы получили сегментацию пользователей на 4 группы в зависимости от количества заказов, суммарной прибыли и срока последнего посещения продукта, на основе этих данных можно выстроить дальнейшую продуктовую стратегию, разработать мероприятия для перехода пользователей из одной группы в другую."
   ]
  }
 ],
 "metadata": {
  "kernelspec": {
   "display_name": "Python 3",
   "language": "python",
   "name": "python3"
  },
  "language_info": {
   "codemirror_mode": {
    "name": "ipython",
    "version": 3
   },
   "file_extension": ".py",
   "mimetype": "text/x-python",
   "name": "python",
   "nbconvert_exporter": "python",
   "pygments_lexer": "ipython3",
   "version": "3.7.3"
  }
 },
 "nbformat": 4,
 "nbformat_minor": 4
}
